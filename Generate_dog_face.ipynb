{
  "nbformat": 4,
  "nbformat_minor": 0,
  "metadata": {
    "colab": {
      "provenance": []
    },
    "kernelspec": {
      "name": "python3",
      "display_name": "Python 3"
    },
    "language_info": {
      "name": "python"
    }
  },
  "cells": [
    {
      "cell_type": "code",
      "source": [
        "!pip install selenium\n",
        "!apt-get update\n",
        "!apt install chromium-chromedriver\n",
        "!cp /usr/lib/chromium-browser/chromedriver /usr/bin"
      ],
      "metadata": {
        "id": "jMv_Emr5mnud"
      },
      "execution_count": null,
      "outputs": []
    },
    {
      "cell_type": "code",
      "execution_count": null,
      "metadata": {
        "id": "2Y0SVJ3Vl2av"
      },
      "outputs": [],
      "source": [
        "from selenium import webdriver\n",
        "import urllib.request\n",
        "\n",
        "options = webdriver.ChromeOptions()\n",
        "options.add_argument('--headless')\n",
        "options.add_argument('--no-sandbox')\n",
        "options.add_argument('--disable-dev-shm-usage')\n",
        "options.add_argument(\n",
        "            'user-agent=Mozilla/5.0 (Macintosh; Intel Mac OS X 10_12_6) AppleWebKit/537.36 (KHTML, like Gecko) Chrome/61.0.3163.100 Safari/537.36')\n",
        "driver = webdriver.Chrome('chromedriver', options=options)"
      ]
    },
    {
      "cell_type": "code",
      "source": [
        "url = 'https://api.thedogapi.com/v1/images/search'\n",
        "get_size = 100"
      ],
      "metadata": {
        "id": "hxIitshPmcRm"
      },
      "execution_count": null,
      "outputs": []
    },
    {
      "cell_type": "code",
      "source": [
        "from selenium.webdriver.common.by import By\n",
        "\n",
        "driver.get(url)\n",
        "for i in range(get_size):\n",
        "  driver.implicitly_wait(1)\n",
        "  img = driver.find_element(By.XPATH, '/html/body/pre')\n",
        "  img = img.text.split(',')[1]\n",
        "  img = ':'.join(img.split(':')[1:3]).replace('\"','')\n",
        "  print(img)\n",
        "  base = 'save path'\n",
        "  filename = '다른강아지'+str(i)+\".jpg\"\n",
        "\n",
        "  urllib.request.urlretrieve(img, base+filename)\n",
        "  driver.refresh()"
      ],
      "metadata": {
        "id": "3tb-ZFqnnwtv"
      },
      "execution_count": null,
      "outputs": []
    },
    {
      "cell_type": "code",
      "source": [],
      "metadata": {
        "id": "VZP7Y-0hq-SQ"
      },
      "execution_count": null,
      "outputs": []
    }
  ]
}