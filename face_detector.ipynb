{
  "nbformat": 4,
  "nbformat_minor": 0,
  "metadata": {
    "colab": {
      "provenance": []
    },
    "kernelspec": {
      "name": "python3",
      "display_name": "Python 3"
    },
    "language_info": {
      "name": "python"
    },
    "accelerator": "GPU",
    "gpuClass": "standard"
  },
  "cells": [
    {
      "cell_type": "code",
      "source": [
        "!pip install face_recognition"
      ],
      "metadata": {
        "colab": {
          "base_uri": "https://localhost:8080/"
        },
        "id": "Nc4GDItu7RAg",
        "outputId": "e43c46fa-6066-4dcd-88c4-5953511be891"
      },
      "execution_count": null,
      "outputs": [
        {
          "output_type": "stream",
          "name": "stdout",
          "text": [
            "Looking in indexes: https://pypi.org/simple, https://us-python.pkg.dev/colab-wheels/public/simple/\n",
            "Requirement already satisfied: face_recognition in /usr/local/lib/python3.7/dist-packages (1.3.0)\n",
            "Requirement already satisfied: Pillow in /usr/local/lib/python3.7/dist-packages (from face_recognition) (7.1.2)\n",
            "Requirement already satisfied: dlib>=19.7 in /usr/local/lib/python3.7/dist-packages (from face_recognition) (19.24.0)\n",
            "Requirement already satisfied: numpy in /usr/local/lib/python3.7/dist-packages (from face_recognition) (1.21.6)\n",
            "Requirement already satisfied: Click>=6.0 in /usr/local/lib/python3.7/dist-packages (from face_recognition) (7.1.2)\n",
            "Requirement already satisfied: face-recognition-models>=0.3.0 in /usr/local/lib/python3.7/dist-packages (from face_recognition) (0.3.0)\n"
          ]
        }
      ]
    },
    {
      "cell_type": "code",
      "source": [
        "def plt_imshow(title='image', img=None, figsize=(8 ,5)):\n",
        "    plt.figure(figsize=figsize)\n",
        " \n",
        "    if type(img) == list:\n",
        "        if type(title) == list:\n",
        "            titles = title\n",
        "        else:\n",
        "            titles = []\n",
        " \n",
        "            for i in range(len(img)):\n",
        "                titles.append(title)\n",
        " \n",
        "        for i in range(len(img)):\n",
        "            if len(img[i].shape) <= 2:\n",
        "                rgbImg = cv2.cvtColor(img[i], cv2.COLOR_GRAY2RGB)\n",
        "            else:\n",
        "                rgbImg = cv2.cvtColor(img[i], cv2.COLOR_BGR2RGB)\n",
        " \n",
        "            plt.subplot(1, len(img), i + 1), plt.imshow(rgbImg)\n",
        "            plt.title(titles[i])\n",
        "            plt.xticks([]), plt.yticks([])\n",
        " \n",
        "        plt.show()\n",
        "    else:\n",
        "        if len(img.shape) < 3:\n",
        "            rgbImg = cv2.cvtColor(img, cv2.COLOR_GRAY2RGB)\n",
        "        else:\n",
        "            rgbImg = cv2.cvtColor(img, cv2.COLOR_BGR2RGB)\n",
        " \n",
        "        plt.imshow(rgbImg)\n",
        "        plt.title(title)\n",
        "        plt.xticks([]), plt.yticks([])\n",
        "        plt.show()"
      ],
      "metadata": {
        "id": "KXvhYaPU-F-q"
      },
      "execution_count": null,
      "outputs": []
    },
    {
      "cell_type": "code",
      "source": [
        "def _trim_css_to_bounds(css, image_shape):\n",
        "    return max(css[0], 0), min(css[1], image_shape[1]), min(css[2], image_shape[0]), max(css[3], 0)\n",
        " \n",
        " \n",
        "def _rect_to_css(rect):\n",
        "    return rect.top(), rect.right(), rect.bottom(), rect.left()\n",
        " \n",
        " \n",
        "def _raw_face_locations(img, number_of_times_to_upsample=1):\n",
        "    return detector(img, number_of_times_to_upsample)\n",
        "    \n",
        " \n",
        "def face_locations(img, number_of_times_to_upsample=1):\n",
        "    return [_trim_css_to_bounds(_rect_to_css(face.rect), img.shape) for face in _raw_face_locations(img, number_of_times_to_upsample)]"
      ],
      "metadata": {
        "id": "TdXsVziI-mqt"
      },
      "execution_count": null,
      "outputs": []
    },
    {
      "cell_type": "code",
      "execution_count": null,
      "metadata": {
        "id": "e-j8rT7E7KhG"
      },
      "outputs": [],
      "source": [
        "import os\n",
        "import cv2\n",
        "import dlib\n",
        "import imutils\n",
        "from imutils import face_utils\n",
        "import numpy as np\n",
        "import matplotlib.pyplot as plt\n",
        " \n",
        "import face_recognition"
      ]
    },
    {
      "cell_type": "code",
      "source": [
        "face_landmark_detector_path = 'dogHeadDetector.dat'\n",
        "face_landmark_predictor_path = 'landmarkDetector.dat'\n",
        " \n",
        "detector = dlib.cnn_face_detection_model_v1(face_landmark_detector_path)\n",
        "predictor = dlib.shape_predictor(face_landmark_predictor_path)"
      ],
      "metadata": {
        "id": "_whPDPuI7vKI"
      },
      "execution_count": null,
      "outputs": []
    },
    {
      "cell_type": "code",
      "source": [
        "sample = 'sample data location'\n",
        "image = cv2.imread(sample)"
      ],
      "metadata": {
        "id": "8cAqiETO9p4n"
      },
      "execution_count": null,
      "outputs": []
    },
    {
      "cell_type": "code",
      "source": [
        "def find_dog_face(input_image, size=None, debug=False, path=None):\n",
        "    image = input_image.copy()\n",
        "\n",
        "    if size:\n",
        "        image = imutils.resize(image, width=size)\n",
        "\n",
        "    \n",
        "        \n",
        "    gray_image = cv2.cvtColor(image, cv2.COLOR_BGR2GRAY)\n",
        "    dets = detector(gray_image, 1)\n",
        "    \n",
        "    print('Found {} faces.'.format(len(dets)))\n",
        "    \n",
        "    for (i, det) in enumerate(dets):\n",
        "        # 얼굴 영역의 얼굴 랜드마크를 결정한 다음 \n",
        "        # 얼굴 랜드마크(x, y) 좌표를 NumPy Array로 변환합니다.\n",
        "        shape = predictor(image, det.rect)\n",
        "        shape = face_utils.shape_to_np(shape)\n",
        "\n",
        "        # dlib의 사각형을 OpenCV bounding box로 변환(x, y, w, h)\n",
        "        (x, y, w, h) = face_utils.rect_to_bb(det.rect)\n",
        "        cv2.rectangle(image, (x, y), (x + w, y + h), (0, 255, 0), 2)\n",
        "        cv2.putText(image, \"Face #{}\".format(i + 1), (x - 10, y - 10), cv2.FONT_HERSHEY_SIMPLEX, 0.5, (0, 255, 0), 2)\n",
        "        if path:\n",
        "            name = path.split('/')[-1]\n",
        "            save_path = 'base save path' + name # os.path.join(base + name)\n",
        "            cv2.imwrite(name, image)\n",
        "        if debug:\n",
        "            # 얼굴 랜드마크에 포인트를 그립니다.\n",
        "            for (i, (x, y)) in enumerate(shape):\n",
        "                cv2.circle(image, (x, y), int(image.shape[1]/250), (0, 0, 255), -1)\n",
        "                # cv2.putText(image, str(i + 1), (x - 10, y - 10), cv2.FONT_HERSHEY_SIMPLEX, 0.2, (255, 255, 255), 1)\n",
        "        \n",
        "    plt_imshow([\"Original\", \"Find Faces\"], [input_image, image], figsize=(16,10))\n",
        "    "
      ],
      "metadata": {
        "id": "DLav1VhZ-AVJ"
      },
      "execution_count": null,
      "outputs": []
    },
    {
      "cell_type": "code",
      "source": [
        "def save_dog_face(input_image, size=None, path=None):\n",
        "    image = input_image.copy()\n",
        "\n",
        "    # if size:\n",
        "    #     image = imutils.resize(image, width=size)\n",
        "\n",
        "        \n",
        "    gray_image = cv2.cvtColor(image, cv2.COLOR_BGR2GRAY)\n",
        "    dets = detector(gray_image, 1)\n",
        "    \n",
        "    if len(dets)==0:\n",
        "      return\n",
        "    \n",
        "    for (i, det) in enumerate(dets):\n",
        "        # 얼굴 영역의 얼굴 랜드마크를 결정한 다음 \n",
        "        # 얼굴 랜드마크(x, y) 좌표를 NumPy Array로 변환합니다.\n",
        "        shape = predictor(image, det.rect)\n",
        "        shape = face_utils.shape_to_np(shape)\n",
        "\n",
        "        # dlib의 사각형을 OpenCV bounding box로 변환(x, y, w, h)\n",
        "        (x, y, w, h) = face_utils.rect_to_bb(det.rect)\n",
        "        cv2.rectangle(image, (x, y), (x + w, y + h), (0, 255, 0), 2)\n",
        "        cv2.putText(image, \"Face #{}\".format(i + 1), (x - 10, y - 10), cv2.FONT_HERSHEY_SIMPLEX, 0.5, (0, 255, 0), 2)\n",
        "        if path:\n",
        "            save = image[y:y+h, x:x+w]\n",
        "            if size:\n",
        "              save = imutils.resize(save, width=size)\n",
        "            name = path.split('/')[-1]\n",
        "            save_path = os.path.join('/content/drive/MyDrive/ml/겨울AI/otherdogs/train/', name)\n",
        "            cv2.imwrite(save_path, save)"
      ],
      "metadata": {
        "id": "WCGoYnjyNvTk"
      },
      "execution_count": null,
      "outputs": []
    },
    {
      "cell_type": "code",
      "source": [
        "find_dog_face(image, debug=True)"
      ],
      "metadata": {
        "id": "vdl589KMeqst"
      },
      "execution_count": null,
      "outputs": []
    },
    {
      "cell_type": "code",
      "source": [
        "save_dog_face(image, debug=True, path=sample, size=256)"
      ],
      "metadata": {
        "colab": {
          "base_uri": "https://localhost:8080/"
        },
        "id": "ps80NnVR-ptR",
        "outputId": "0d85949a-34d5-4842-f76d-1f208b729d4f"
      },
      "execution_count": null,
      "outputs": [
        {
          "output_type": "stream",
          "name": "stdout",
          "text": [
            "이미지 Height : 256\n",
            "이미지 Width : 256\n"
          ]
        }
      ]
    },
    {
      "cell_type": "code",
      "source": [
        "folder_path = 'folder path'\n",
        "os.listdir(folder_path)"
      ],
      "metadata": {
        "id": "uKf2zWvHBF6E"
      },
      "execution_count": null,
      "outputs": []
    },
    {
      "cell_type": "code",
      "source": [
        "for path in list(os.listdir(folder_path)):\n",
        "  tmp_img = cv2.imread(os.path.join(folder_path, path))\n",
        "  try:\n",
        "    save_dog_face(tmp_img, size=256, path=path)\n",
        "  except:\n",
        "    print(path)\n",
        "    continue"
      ],
      "metadata": {
        "id": "neAdjx7YOH5S"
      },
      "execution_count": null,
      "outputs": []
    },
    {
      "cell_type": "code",
      "source": [
        "# train size\n",
        "len(os.listdir('save path'))"
      ],
      "metadata": {
        "colab": {
          "base_uri": "https://localhost:8080/"
        },
        "id": "49rvy0iKRE6C",
        "outputId": "4574939e-8267-40e8-ed40-1fbf07913680"
      },
      "execution_count": null,
      "outputs": [
        {
          "output_type": "execute_result",
          "data": {
            "text/plain": [
              "38"
            ]
          },
          "metadata": {},
          "execution_count": 2
        }
      ]
    },
    {
      "cell_type": "code",
      "source": [],
      "metadata": {
        "id": "bWR09F6vTJwU"
      },
      "execution_count": null,
      "outputs": []
    }
  ]
}